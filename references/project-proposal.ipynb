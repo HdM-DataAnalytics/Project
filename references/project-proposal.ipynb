{
 "cells": [
  {
   "cell_type": "markdown",
   "metadata": {},
   "source": [
    "# Project proposal\n",
    "\n",
    "---\n",
    "\n",
    "Group name: \n",
    "\n",
    "---\n"
   ]
  },
  {
   "cell_type": "code",
   "execution_count": 17,
   "metadata": {},
   "outputs": [],
   "source": [
    "import pandas as pd\n",
    "\n",
    "df = pd.read_csv(\"../data/raw/ESS5e03_4.csv\")"
   ]
  },
  {
   "cell_type": "markdown",
   "metadata": {},
   "source": [
    "## Introduction\n",
    "\n",
    "The introduction section includes\n",
    "\n",
    "-   an introduction to the subject matter you're investigating\n",
    "-   the motivation for your research question (citing any relevant literature)\n",
    "-   the general research question you wish to explore\n",
    "-   your hypotheses regarding the research question of interest."
   ]
  },
  {
   "cell_type": "markdown",
   "metadata": {},
   "source": [
    "\n",
    "## Data description\n",
    "\n",
    "In this section, you will describe the data set you wish to explore. This includes\n",
    "\n",
    "-   description of the observations in the data set,\n",
    "-   description of how the data was originally collected (not how you found the data but how the original curator of the data collected it)."
   ]
  },
  {
   "cell_type": "markdown",
   "metadata": {},
   "source": [
    "### Description of the observations in the data set\n",
    "Each observation in the data set represents the answers of one participant to the survey questions. The questions can be classified into different subject areas, including e.g. media, politics, family and work or health and well-being. The survey participants were asked various questions on these different topics. The present data set contains the collected answers of all participants. \n",
    "This means that each observation contains data on a single person. As only people with German citizenship are to be considered in this project, the data set is reduced to this data. The observations therefore reflect the responses of a German citizen. One column represents one question. The contents of each column are the answers of the respective person to this question."
   ]
  },
  {
   "cell_type": "code",
   "execution_count": 20,
   "metadata": {},
   "outputs": [
    {
     "data": {
      "text/html": [
       "<div>\n",
       "<style scoped>\n",
       "    .dataframe tbody tr th:only-of-type {\n",
       "        vertical-align: middle;\n",
       "    }\n",
       "\n",
       "    .dataframe tbody tr th {\n",
       "        vertical-align: top;\n",
       "    }\n",
       "\n",
       "    .dataframe thead th {\n",
       "        text-align: right;\n",
       "    }\n",
       "</style>\n",
       "<table border=\"1\" class=\"dataframe\">\n",
       "  <thead>\n",
       "    <tr style=\"text-align: right;\">\n",
       "      <th></th>\n",
       "      <th>name</th>\n",
       "      <th>essround</th>\n",
       "      <th>edition</th>\n",
       "      <th>proddate</th>\n",
       "      <th>idno</th>\n",
       "      <th>cntry</th>\n",
       "      <th>dweight</th>\n",
       "      <th>pspwght</th>\n",
       "      <th>pweight</th>\n",
       "      <th>tvtot</th>\n",
       "      <th>...</th>\n",
       "      <th>inwyye</th>\n",
       "      <th>inwehh</th>\n",
       "      <th>inwemm</th>\n",
       "      <th>spltadmd</th>\n",
       "      <th>supqad1</th>\n",
       "      <th>supqad2</th>\n",
       "      <th>supqdd</th>\n",
       "      <th>supqmm</th>\n",
       "      <th>supqyr</th>\n",
       "      <th>inwtm</th>\n",
       "    </tr>\n",
       "  </thead>\n",
       "  <tbody>\n",
       "    <tr>\n",
       "      <th>0</th>\n",
       "      <td>ESS5e03_4</td>\n",
       "      <td>5</td>\n",
       "      <td>3.4</td>\n",
       "      <td>01.12.2018</td>\n",
       "      <td>100102</td>\n",
       "      <td>BE</td>\n",
       "      <td>1.0</td>\n",
       "      <td>0.792865</td>\n",
       "      <td>0.528619</td>\n",
       "      <td>5</td>\n",
       "      <td>...</td>\n",
       "      <td>2010.0</td>\n",
       "      <td>14.0</td>\n",
       "      <td>2.0</td>\n",
       "      <td>3</td>\n",
       "      <td>6</td>\n",
       "      <td>1</td>\n",
       "      <td>20.0</td>\n",
       "      <td>11.0</td>\n",
       "      <td>2010.0</td>\n",
       "      <td>26.0</td>\n",
       "    </tr>\n",
       "  </tbody>\n",
       "</table>\n",
       "<p>1 rows × 674 columns</p>\n",
       "</div>"
      ],
      "text/plain": [
       "        name  essround  edition    proddate    idno cntry  dweight   pspwght  \\\n",
       "0  ESS5e03_4         5      3.4  01.12.2018  100102    BE      1.0  0.792865   \n",
       "\n",
       "    pweight  tvtot  ...  inwyye  inwehh  inwemm  spltadmd  supqad1  supqad2  \\\n",
       "0  0.528619      5  ...  2010.0    14.0     2.0         3        6        1   \n",
       "\n",
       "   supqdd  supqmm  supqyr  inwtm  \n",
       "0    20.0    11.0  2010.0   26.0  \n",
       "\n",
       "[1 rows x 674 columns]"
      ]
     },
     "execution_count": 20,
     "metadata": {},
     "output_type": "execute_result"
    }
   ],
   "source": [
    "# first entry of the data set\n",
    "df.head(1)"
   ]
  },
  {
   "cell_type": "code",
   "execution_count": 23,
   "metadata": {},
   "outputs": [
    {
     "data": {
      "text/plain": [
       "(52458, 674)"
      ]
     },
     "execution_count": 23,
     "metadata": {},
     "output_type": "execute_result"
    }
   ],
   "source": [
    "df.shape"
   ]
  },
  {
   "cell_type": "code",
   "execution_count": 21,
   "metadata": {},
   "outputs": [],
   "source": [
    "# data set after filtering for entries with persons of German nationality\n",
    "df_german = df[df[\"cntry\"]==\"DE\"]"
   ]
  },
  {
   "cell_type": "code",
   "execution_count": 22,
   "metadata": {},
   "outputs": [
    {
     "data": {
      "text/plain": [
       "(3031, 674)"
      ]
     },
     "execution_count": 22,
     "metadata": {},
     "output_type": "execute_result"
    }
   ],
   "source": [
    "df_german.shape"
   ]
  },
  {
   "cell_type": "markdown",
   "metadata": {},
   "source": [
    "The data set contains 52458 observations with 674 columns each. The focus on persons with German citizenship reduces the data set under consideration to 3031 observations. \n",
    "Likewise, not all columns are to be considered for further analysis. A description of the individual columns is not provided due to the large number. The columns relevant for the analysis are explained in more detail below. Initially, only the categories into which the columns are classified will be listed and briefly explained. "
   ]
  },
  {
   "cell_type": "markdown",
   "metadata": {},
   "source": [
    "- **Identifier and weight variables**:  information about the data set and survey like the title of the data set, production date or country of the respondent\n",
    "- **Media and social trust**:   information about media consumption (such as TV, radio, Internet) and trust in strangers\n",
    "- **Politics**:     information about the trust in politics, the party voted for in the last election and the satisfaction with political system in the respective country\n",
    "- **Subjective well-being, social exclusion, religion, national and ethnic identity**:  information about the well-being in different situations, social behavior and nationality\n",
    "- **Family work and well-being**:   information about own job and their partner's job, for e.g. job security, pay and satisfaction\n",
    "- **Justic**:   information about overall crime situation in their country, police and the law\n",
    "- **Gender, Year of birth and Household grid**:     information about the gender and age of the respondent as well as the age and relationship to members in their household\n",
    "- **Socio-demographics**:   information about relationship status, education and income of the respondent, their partner and parents\n",
    "- **Human values**:     information about a person's attitude to how they live their life like priorities in life, treat other people and want to be treated\n",
    "- **Administrative variables**:     information about the interview like place or date"
   ]
  },
  {
   "cell_type": "markdown",
   "metadata": {},
   "source": [
    "\n",
    "## Analysis approach\n",
    "\n",
    "In this section, you will provide a brief overview of your analysis approach. This includes:\n",
    "\n",
    "-   Description of the response variable.\n",
    "-   Visualization and summary statistics for the response variable.\n",
    "-   List of variables that will be considered as predictors\n",
    "-   Your model type (what kind of model(s) will you use ... e.g. linear regression)"
   ]
  },
  {
   "cell_type": "markdown",
   "metadata": {},
   "source": [
    "## Data dictionary\n",
    "\n",
    "*Create a data dictionary for all the variables in your data set. You may fill out the data description table or create your own table with Pandas:*\n",
    "\n",
    "<br>\n",
    "\n",
    "\n",
    "| Name  |   Description\t| Role   \t| Type   \t|  Format \t|\n",
    "|---\t|---\t        |---    \t|---\t    |---\t|\n",
    "|   \t|   \t        |   \t    |   \t    |   \t|\n",
    "|   \t|   \t        |   \t    |   \t    |   \t|\n",
    "|   \t|   \t        |   \t    |   \t    |   \t|\n",
    "\n",
    "\n",
    "<br>\n",
    "\n",
    "- `Role`: response, predictor, ID (ID columns are not used in a model but can help to better understand the data)\n",
    "\n",
    "- `Type`: nominal, ordinal or numeric\n",
    "\n",
    "- `Format`: int, float, string, category, date or object"
   ]
  }
 ],
 "metadata": {
  "kernelspec": {
   "display_name": "Python 3.9.12 ('base')",
   "language": "python",
   "name": "python3"
  },
  "language_info": {
   "codemirror_mode": {
    "name": "ipython",
    "version": 3
   },
   "file_extension": ".py",
   "mimetype": "text/x-python",
   "name": "python",
   "nbconvert_exporter": "python",
   "pygments_lexer": "ipython3",
   "version": "3.11.6"
  },
  "orig_nbformat": 4,
  "vscode": {
   "interpreter": {
    "hash": "463226f144cc21b006ce6927bfc93dd00694e52c8bc6857abb6e555b983749e9"
   }
  }
 },
 "nbformat": 4,
 "nbformat_minor": 2
}
