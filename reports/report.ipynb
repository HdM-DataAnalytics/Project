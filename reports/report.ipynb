{
 "cells": [
  {
   "cell_type": "markdown",
   "metadata": {},
   "source": [
    "### Setup"
   ]
  },
  {
   "cell_type": "code",
   "execution_count": 16,
   "metadata": {},
   "outputs": [],
   "source": [
    "import pandas as pd\n",
    "import pickle\n",
    "from sklearn.linear_model import LogisticRegressionCV\n",
    "from sklearn.metrics import classification_report, ConfusionMatrixDisplay, RocCurveDisplay, roc_auc_score"
   ]
  },
  {
   "cell_type": "markdown",
   "metadata": {},
   "source": [
    "# Report"
   ]
  },
  {
   "cell_type": "markdown",
   "metadata": {},
   "source": [
    "## Introduction and data"
   ]
  },
  {
   "cell_type": "markdown",
   "metadata": {},
   "source": [
    "> REMOVE THE FOLLOWING TEXT\n",
    "\n",
    "This section includes an introduction to the project motivation, data, and research question.\n",
    "Describe the data and definitions of key variables.\n",
    "\n",
    "It should also include some exploratory data analysis.\n",
    "\n",
    "All of the EDA won't fit in the paper, so focus on the EDA for the response variable and a few other interesting variables and relationships."
   ]
  },
  {
   "cell_type": "code",
   "execution_count": null,
   "metadata": {},
   "outputs": [],
   "source": []
  },
  {
   "cell_type": "markdown",
   "metadata": {},
   "source": [
    "## Methodology"
   ]
  },
  {
   "cell_type": "markdown",
   "metadata": {},
   "source": [
    "### Classification"
   ]
  },
  {
   "cell_type": "markdown",
   "metadata": {},
   "source": [
    "For our classification, we are using a Logistic Regression model to predict the Happiness of German people based on different social, political, and financial aspects. As a predictor variable, we select the variable \"happy\" from our data set, which reflects a person's self-assessment of happiness on a scale of 0 to 10.\n",
    "\n",
    "Fortunately, the dataset did not contain a single row with a missing value at the response variable “happy”. Thus, we were able to use the whole dataset for our model.\n",
    "\n",
    "Since the variable can have 11 valid values (0 for \"not happy\" to 10 for \"happy\"), the values must first be categorized, since logistic regression can only make binary predictions. \n",
    "We would like to have a balanced dataset containing a similar number of \"happy\" and \"unhappy\" people in our dataset. That's why we set the threshold to different values. By doing this, we can try to balance out the dataset.\n",
    "The easiest way to categorize these values into two categories, is to split at the value 5. \n",
    "\n",
    "First, the value 5 will be included to the \"happy\" category."
   ]
  },
  {
   "cell_type": "code",
   "execution_count": 17,
   "metadata": {},
   "outputs": [],
   "source": [
    "cls_df = pd.read_csv(\"../data/interim/cls_df_pre_bin\")"
   ]
  },
  {
   "cell_type": "code",
   "execution_count": 18,
   "metadata": {},
   "outputs": [
    {
     "data": {
      "text/plain": [
       "happy\n",
       "1    2781\n",
       "0     250\n",
       "Name: count, dtype: int64"
      ]
     },
     "execution_count": 18,
     "metadata": {},
     "output_type": "execute_result"
    }
   ],
   "source": [
    "cls_df_happy5 = cls_df.copy()\n",
    "cls_df_happy5['happy'] = cls_df_happy5['happy'].apply(lambda x: 1 if x >= 5 else 0)\n",
    "\n",
    "cls_df_happy5['happy'].value_counts()"
   ]
  },
  {
   "cell_type": "markdown",
   "metadata": {},
   "source": [
    "By looking at the count of the values, it's clear to see that there are far more people being \"happy\" than there are being \"unhappy\". Next, we compare this result with the next split at the value 6."
   ]
  },
  {
   "cell_type": "code",
   "execution_count": 19,
   "metadata": {},
   "outputs": [
    {
     "data": {
      "text/plain": [
       "happy\n",
       "1    2466\n",
       "0     565\n",
       "Name: count, dtype: int64"
      ]
     },
     "execution_count": 19,
     "metadata": {},
     "output_type": "execute_result"
    }
   ],
   "source": [
    "cls_df_happy6 = cls_df.copy()\n",
    "cls_df_happy6['happy'] = cls_df_happy6['happy'].apply(lambda x: 1 if x >= 6 else 0)\n",
    "\n",
    "cls_df_happy6['happy'].value_counts()"
   ]
  },
  {
   "cell_type": "markdown",
   "metadata": {},
   "source": [
    "By splitting the data at the value 6, the distribution is more balanced than before. Still, it is not optimal for training our model. This issue will be handled later.\n",
    "\n",
    "We manually picked some predictor variables out of all the 674 variables included in the dataset which seem to the suitable for predicting the happiness score. Due to the high number of variables, we could not analyse every single one. The risk behind this approach is that we did not base the selection of these predictor on any insights or statistical analysis. Thus, the selected variables might not be suitable for our model. \n",
    "Still, the selected predictor variables will be analysed and evaluated further."
   ]
  },
  {
   "cell_type": "markdown",
   "metadata": {},
   "source": [
    "After binning the values of the response variable “happy”, we aim to clean the predictor variables by either dropping variables containing a high percentage of missing values or replace the missing values. Three predictor variables really stood out when visualizing the percentage of missing values: “dsgrmnya”, “edude2” and “wrywprb” contained at least 40% missing values. Due to this high number of missing values, a replacement value would most likely not represent the “real” value, so we dropped these variables. The remaining predictor variables either had none or not more than 10% missing values. Depending on the respective variable being ordinal or nominal, we filled the missing values by using the median for ordinal variables and the mode for nominal variables. \n",
    "\n",
    "The data splitting process divided the dataset into training and test data. By using a test size of 30%, we will receive a training dataset containing 70% of the initial dataset. To further analyse our dataset and gain insights to improve the performance of our model, we first perform an explanatory data analysis (EDA) on the training data.\n",
    "\n",
    "The feature selection process was based entirely on the EDA containing a correlation matrix as well as a computation of the Variance Inflation Factor (VIF) which indicates multicollinearity across predictor variables. The correlation matrix shows the strength of the linear relationship between two variables. The goal was to determine variables having a high correlation coefficient and to eliminate these variables to prevent multicollinearity. Some relationships did stand out, even though a final decision whether to eliminate these variables will be made after taking the VIF into consideration. \n",
    "\n",
    "For the VIF, we aim for a value below 10, at best even below 5. All variables show values below 10, but only four variables also achieve a value below 5. After considering the results of the correlation matrix, five predictor variables are eliminated leaving our dataset with seven predictor variables. \n",
    "\n",
    "After selecting all relevant features for our modeling process there is still one issue to handle. As described previously, we had to categorize the values of our response variable “happy” in to two categories. Only by doing this, we can apply a logistic regression model to this problem. The categorization leaves us with two valid values for our response variable: “happy” and “unhappy”. By looking at the count of these values, it’s clear to see that there are much more of “happy” people than there are of “unhappy” people. This imbalance will be addressed by oversampling the training data. \n",
    "\n",
    "Oversampling is a method which randomly selects a sample out of the training data, copies it and repeats this process until the dataset is fully balanced. To evaluate whether oversampling improves the performance our model, we will train a model using the original, unbalanced dataset and train another model using the balanced, oversampled dataset. The reason to not use undersampling is that we do not want to lose out on information."
   ]
  },
  {
   "cell_type": "markdown",
   "metadata": {},
   "source": [
    "## Results"
   ]
  },
  {
   "cell_type": "markdown",
   "metadata": {},
   "source": [
    "### Classification"
   ]
  },
  {
   "cell_type": "code",
   "execution_count": 20,
   "metadata": {},
   "outputs": [],
   "source": [
    "cls_data = pd.read_csv(\"../data/processed/cls_final.csv\")\n",
    "\n",
    "X_cls_test = cls_data.loc[2121:].drop(\"happy\", axis=1)\n",
    "y_cls_test = cls_data.loc[2121:][[\"happy\"]]"
   ]
  },
  {
   "cell_type": "markdown",
   "metadata": {},
   "source": [
    "First, we will evaluate the model trained on the unbalanced dataset. \n",
    "\n",
    "We achieve an accuracy of 82.2% when testing the model with our dedicated test data. This accuracy is a quite good score for our model. When plotting the confusion matrix, we can see how our model predicted the test data. "
   ]
  },
  {
   "cell_type": "code",
   "execution_count": 21,
   "metadata": {},
   "outputs": [],
   "source": [
    "model_cls_unbal = pickle.load(open(\"../models/log-reg_unbal.pkl\", \"rb\"))"
   ]
  },
  {
   "cell_type": "code",
   "execution_count": 22,
   "metadata": {},
   "outputs": [],
   "source": [
    "y_pred_unbal = model_cls_unbal.predict(X_cls_test)"
   ]
  },
  {
   "cell_type": "code",
   "execution_count": 23,
   "metadata": {},
   "outputs": [
    {
     "data": {
      "text/plain": [
       "<sklearn.metrics._plot.confusion_matrix.ConfusionMatrixDisplay at 0x284120750>"
      ]
     },
     "execution_count": 23,
     "metadata": {},
     "output_type": "execute_result"
    },
    {
     "data": {
      "image/png": "[encoded data removed]",
      "text/plain": [
       "<Figure size 640x480 with 2 Axes>"
      ]
     },
     "metadata": {},
     "output_type": "display_data"
    }
   ],
   "source": [
    "ConfusionMatrixDisplay.from_predictions(y_cls_test, y_pred_unbal, display_labels=model_cls_unbal.classes_)"
   ]
  },
  {
   "cell_type": "markdown",
   "metadata": {},
   "source": [
    "The confusion matrix shows that our model predicted every data in our test data to be “happy”. Not a single entry was predicted to be “unhappy”. This explains the high accuracy score. We do not aim to have a model which only predicts people to be happy. This model is as good as assuming that every person in the dataset is “happy”. Even after adjusting the decision threshold to 0.6 and 0.7, not a single entry was predicted to be “unhappy”. Thus, this model will not be further evaluated."
   ]
  },
  {
   "cell_type": "markdown",
   "metadata": {},
   "source": [
    "Next, we train a new model with our oversampled, balanced dataset. \n",
    "This model achieves an accuracy score of about 59.3%. Compared to the previous model, this value is significantly worse. By looking at the confusion matrix, we see that this model did also predict “unhappy” which is an improvement compared to the previous model. Still, performance is quite bad as many entries which are “happy” got predicted to be “unhappy”. "
   ]
  },
  {
   "cell_type": "code",
   "execution_count": 24,
   "metadata": {},
   "outputs": [],
   "source": [
    "model_cls_bal = pickle.load(open(\"../models/log-reg.pkl\", \"rb\"))"
   ]
  },
  {
   "cell_type": "code",
   "execution_count": 25,
   "metadata": {},
   "outputs": [],
   "source": [
    "y_pred_bal = model_cls_bal.predict(X_cls_test)"
   ]
  },
  {
   "cell_type": "code",
   "execution_count": 26,
   "metadata": {},
   "outputs": [
    {
     "data": {
      "text/plain": [
       "<sklearn.metrics._plot.confusion_matrix.ConfusionMatrixDisplay at 0x28416b850>"
      ]
     },
     "execution_count": 26,
     "metadata": {},
     "output_type": "execute_result"
    },
    {
     "data": {
      "image/png": "[encoded data removed]",
      "text/plain": [
       "<Figure size 640x480 with 2 Axes>"
      ]
     },
     "metadata": {},
     "output_type": "display_data"
    }
   ],
   "source": [
    "ConfusionMatrixDisplay.from_predictions(y_cls_test, y_pred_bal, display_labels=model_cls_bal.classes_)"
   ]
  },
  {
   "cell_type": "code",
   "execution_count": 27,
   "metadata": {},
   "outputs": [
    {
     "name": "stdout",
     "output_type": "stream",
     "text": [
      "              precision    recall  f1-score   support\n",
      "\n",
      "     unhappy       0.22      0.51      0.31       162\n",
      "       happy       0.85      0.61      0.71       748\n",
      "\n",
      "    accuracy                           0.59       910\n",
      "   macro avg       0.54      0.56      0.51       910\n",
      "weighted avg       0.74      0.59      0.64       910\n",
      "\n"
     ]
    }
   ],
   "source": [
    "print(classification_report(y_cls_test, y_pred_bal, target_names=[\"unhappy\", \"happy\"]))"
   ]
  },
  {
   "cell_type": "markdown",
   "metadata": {},
   "source": [
    "We aim to optimize recall as we want to know what proportion of people got predicted correctly. \n",
    "By looking at the data whose true label is “unhappy” (or 0), the recall score is at 0.51. The recall score of “happy” people is at 0.61 which is a bit better, but still leaves a lot of room for optimization.\n",
    "\n",
    "The ROC-curve (receiver operating characteristic) shows the performance of a classification model at different classification thresholds. The AUC-score (area under curve) provides an aggregate measure of performance across all possible classification thresholds. "
   ]
  },
  {
   "cell_type": "code",
   "execution_count": 28,
   "metadata": {},
   "outputs": [
    {
     "data": {
      "text/plain": [
       "<sklearn.metrics._plot.roc_curve.RocCurveDisplay at 0x16f15bb50>"
      ]
     },
     "execution_count": 28,
     "metadata": {},
     "output_type": "execute_result"
    },
    {
     "data": {
      "image/png": "[encoded data removed]",
      "text/plain": [
       "<Figure size 640x480 with 1 Axes>"
      ]
     },
     "metadata": {},
     "output_type": "display_data"
    }
   ],
   "source": [
    "RocCurveDisplay.from_estimator(model_cls_bal, X_cls_test, y_cls_test)"
   ]
  },
  {
   "cell_type": "markdown",
   "metadata": {},
   "source": [
    "The ROC-curve is quite flat and close to a straight line. The AUC-score is at 0.59 which is close to the value 0.5 indicating a randomized prediction. This shows that the model trained on the balanced dataset is anything but good."
   ]
  },
  {
   "cell_type": "code",
   "execution_count": 29,
   "metadata": {},
   "outputs": [
    {
     "name": "stdout",
     "output_type": "stream",
     "text": [
      "Logistic Regression with Threshold 0.4\n",
      "              precision    recall  f1-score   support\n",
      "\n",
      "     unhappy       0.30      0.29      0.29       162\n",
      "       happy       0.85      0.85      0.85       748\n",
      "\n",
      "    accuracy                           0.75       910\n",
      "   macro avg       0.57      0.57      0.57       910\n",
      "weighted avg       0.75      0.75      0.75       910\n",
      "\n"
     ]
    }
   ],
   "source": [
    "pred_proba = model_cls_bal.predict_proba(X_cls_test)\n",
    "\n",
    "df = pd.DataFrame({\"y_pred\": pred_proba[:,1] > 0.4})\n",
    "\n",
    "print(f\"Logistic Regression with Threshold {0.4}\")\n",
    "\n",
    "print(classification_report(y_cls_test, df[\"y_pred\"], target_names=[\"unhappy\", \"happy\"]))"
   ]
  },
  {
   "cell_type": "markdown",
   "metadata": {},
   "source": [
    "We try to optimize our model by using different classification thresholds using the recall score. By comparing different classification thresholds, we achieve the highest recall and F1-score at the threshold 0.4 with a recall score of 0.57 and a F1-score of also 0.57.\n",
    "\n",
    "This model shows that the predictor variables do not really contribute to making a clear decision whether a person is happy or not. This issue was already addressed at the beginning stating that based on our manual variable selection we risk choosing variables which might not be suitable for the purpose of our model. This statement can now be confirmed."
   ]
  },
  {
   "cell_type": "markdown",
   "metadata": {},
   "source": [
    "## Discussion + Conclusion\n"
   ]
  },
  {
   "cell_type": "markdown",
   "metadata": {},
   "source": [
    "> REMOVE THE FOLLOWING TEXT\n",
    "\n",
    "In this section you'll include a summary of what you have learned about your research question along with statistical arguments supporting your conclusions.\n",
    "In addition, discuss the limitations of your analysis and provide suggestions on ways the analysis could be improved.\n",
    "Any potential issues pertaining to the reliability and validity of your data and appropriateness of the statistical analysis should also be discussed here.\n",
    "Lastly, this section will include ideas for future work."
   ]
  },
  {
   "cell_type": "markdown",
   "metadata": {},
   "source": []
  }
 ],
 "metadata": {
  "kernelspec": {
   "display_name": "Python 3.9.6 64-bit",
   "language": "python",
   "name": "python3"
  },
  "language_info": {
   "codemirror_mode": {
    "name": "ipython",
    "version": 3
   },
   "file_extension": ".py",
   "mimetype": "text/x-python",
   "name": "python",
   "nbconvert_exporter": "python",
   "pygments_lexer": "ipython3",
   "version": "3.11.6"
  },
  "orig_nbformat": 4,
  "vscode": {
   "interpreter": {
    "hash": "31f2aee4e71d21fbe5cf8b01ff0e069b9275f58929596ceb00d14d90e3e16cd6"
   }
  }
 },
 "nbformat": 4,
 "nbformat_minor": 2
}
